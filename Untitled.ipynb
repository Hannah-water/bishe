{
 "cells": [
  {
   "cell_type": "code",
   "execution_count": null,
   "metadata": {
    "collapsed": false
   },
   "outputs": [],
   "source": [
    "run zhongyuan.py"
   ]
  },
  {
   "cell_type": "code",
   "execution_count": 12,
   "metadata": {
    "collapsed": false
   },
   "outputs": [
    {
     "data": {
      "text/html": [
       "<div>\n",
       "<table border=\"1\" class=\"dataframe\">\n",
       "  <thead>\n",
       "    <tr style=\"text-align: right;\">\n",
       "      <th></th>\n",
       "      <th>houseinfo2</th>\n",
       "      <th>houseprice</th>\n",
       "      <th>houseinfo1</th>\n",
       "      <th>followinfo</th>\n",
       "    </tr>\n",
       "  </thead>\n",
       "  <tbody>\n",
       "    <tr>\n",
       "      <th>0</th>\n",
       "      <td>南|中层|豪装|2009年</td>\n",
       "      <td>317万</td>\n",
       "      <td>太子道|1室2厅|36平</td>\n",
       "      <td>带看30次</td>\n",
       "    </tr>\n",
       "    <tr>\n",
       "      <th>1</th>\n",
       "      <td>南|低层|精装|2016年</td>\n",
       "      <td>200万</td>\n",
       "      <td>富驰大厦|1室0厅|40平</td>\n",
       "      <td>带看5次</td>\n",
       "    </tr>\n",
       "    <tr>\n",
       "      <th>2</th>\n",
       "      <td>南|低层|豪装|2009年</td>\n",
       "      <td>220万</td>\n",
       "      <td>太子道|1室2厅|25平</td>\n",
       "      <td>带看32次</td>\n",
       "    </tr>\n",
       "    <tr>\n",
       "      <th>3</th>\n",
       "      <td>东北|低层|毛坯|2012年</td>\n",
       "      <td>1373万</td>\n",
       "      <td>宝生Midtown|4室2厅|156平</td>\n",
       "      <td>带看2次</td>\n",
       "    </tr>\n",
       "    <tr>\n",
       "      <th>4</th>\n",
       "      <td>东北|低层|毛坯|2012年</td>\n",
       "      <td>1610万</td>\n",
       "      <td>宝生Midtown|4室2厅|183平</td>\n",
       "      <td></td>\n",
       "    </tr>\n",
       "  </tbody>\n",
       "</table>\n",
       "</div>"
      ],
      "text/plain": [
       "       houseinfo2 houseprice           houseinfo1 followinfo\n",
       "0   南|中层|豪装|2009年       317万         太子道|1室2厅|36平      带看30次\n",
       "1   南|低层|精装|2016年       200万        富驰大厦|1室0厅|40平       带看5次\n",
       "2   南|低层|豪装|2009年       220万         太子道|1室2厅|25平      带看32次\n",
       "3  东北|低层|毛坯|2012年      1373万  宝生Midtown|4室2厅|156平       带看2次\n",
       "4  东北|低层|毛坯|2012年      1610万  宝生Midtown|4室2厅|183平           "
      ]
     },
     "execution_count": 12,
     "metadata": {},
     "output_type": "execute_result"
    }
   ],
   "source": [
    "house.head()"
   ]
  },
  {
   "cell_type": "code",
   "execution_count": 13,
   "metadata": {
    "collapsed": false
   },
   "outputs": [
    {
     "data": {
      "text/plain": [
       "0           太子道|1室2厅|36平\n",
       "1          富驰大厦|1室0厅|40平\n",
       "2           太子道|1室2厅|25平\n",
       "3    宝生Midtown|4室2厅|156平\n",
       "4    宝生Midtown|4室2厅|183平\n",
       "Name: houseinfo1, dtype: object"
      ]
     },
     "execution_count": 13,
     "metadata": {},
     "output_type": "execute_result"
    }
   ],
   "source": [
    "house.houseinfo1.head()"
   ]
  },
  {
   "cell_type": "code",
   "execution_count": 18,
   "metadata": {
    "collapsed": false
   },
   "outputs": [
    {
     "ename": "AttributeError",
     "evalue": "'NoneType' object has no attribute 'split'",
     "output_type": "error",
     "traceback": [
      "\u001b[0;31m---------------------------------------------------------------------------\u001b[0m",
      "\u001b[0;31mAttributeError\u001b[0m                            Traceback (most recent call last)",
      "\u001b[0;32m<ipython-input-18-aef20360687e>\u001b[0m in \u001b[0;36m<module>\u001b[0;34m()\u001b[0m\n\u001b[0;32m----> 1\u001b[0;31m \u001b[0mhouseinfo1_split\u001b[0m \u001b[0;34m=\u001b[0m \u001b[0mpd\u001b[0m\u001b[0;34m.\u001b[0m\u001b[0mDataFrame\u001b[0m\u001b[0;34m(\u001b[0m\u001b[0;34m(\u001b[0m\u001b[0mx\u001b[0m\u001b[0;34m.\u001b[0m\u001b[0msplit\u001b[0m\u001b[0;34m(\u001b[0m\u001b[0;34m'|'\u001b[0m\u001b[0;34m)\u001b[0m \u001b[0;32mfor\u001b[0m \u001b[0mx\u001b[0m \u001b[0;32min\u001b[0m \u001b[0mhouse\u001b[0m\u001b[0;34m.\u001b[0m\u001b[0mhouseinfo1\u001b[0m\u001b[0;34m)\u001b[0m\u001b[0;34m,\u001b[0m\u001b[0mindex\u001b[0m\u001b[0;34m=\u001b[0m\u001b[0mhouse\u001b[0m\u001b[0;34m.\u001b[0m\u001b[0mindex\u001b[0m\u001b[0;34m,\u001b[0m\u001b[0mcolumns\u001b[0m\u001b[0;34m=\u001b[0m\u001b[0;34m[\u001b[0m\u001b[0;34m'xiaoqu'\u001b[0m\u001b[0;34m,\u001b[0m\u001b[0;34m'huxing'\u001b[0m\u001b[0;34m,\u001b[0m\u001b[0;34m'mianji'\u001b[0m\u001b[0;34m]\u001b[0m\u001b[0;34m)\u001b[0m\u001b[0;34m\u001b[0m\u001b[0m\n\u001b[0m\u001b[1;32m      2\u001b[0m \u001b[0mhouseinfo1_split\u001b[0m\u001b[0;34m.\u001b[0m\u001b[0mhead\u001b[0m\u001b[0;34m(\u001b[0m\u001b[0;34m)\u001b[0m\u001b[0;34m\u001b[0m\u001b[0m\n",
      "\u001b[0;32m/usr/local/lib/python2.7/dist-packages/pandas/core/frame.pyc\u001b[0m in \u001b[0;36m__init__\u001b[0;34m(self, data, index, columns, dtype, copy)\u001b[0m\n\u001b[1;32m    298\u001b[0m         \u001b[0;32melif\u001b[0m \u001b[0misinstance\u001b[0m\u001b[0;34m(\u001b[0m\u001b[0mdata\u001b[0m\u001b[0;34m,\u001b[0m \u001b[0;34m(\u001b[0m\u001b[0mlist\u001b[0m\u001b[0;34m,\u001b[0m \u001b[0mtypes\u001b[0m\u001b[0;34m.\u001b[0m\u001b[0mGeneratorType\u001b[0m\u001b[0;34m)\u001b[0m\u001b[0;34m)\u001b[0m\u001b[0;34m:\u001b[0m\u001b[0;34m\u001b[0m\u001b[0m\n\u001b[1;32m    299\u001b[0m             \u001b[0;32mif\u001b[0m \u001b[0misinstance\u001b[0m\u001b[0;34m(\u001b[0m\u001b[0mdata\u001b[0m\u001b[0;34m,\u001b[0m \u001b[0mtypes\u001b[0m\u001b[0;34m.\u001b[0m\u001b[0mGeneratorType\u001b[0m\u001b[0;34m)\u001b[0m\u001b[0;34m:\u001b[0m\u001b[0;34m\u001b[0m\u001b[0m\n\u001b[0;32m--> 300\u001b[0;31m                 \u001b[0mdata\u001b[0m \u001b[0;34m=\u001b[0m \u001b[0mlist\u001b[0m\u001b[0;34m(\u001b[0m\u001b[0mdata\u001b[0m\u001b[0;34m)\u001b[0m\u001b[0;34m\u001b[0m\u001b[0m\n\u001b[0m\u001b[1;32m    301\u001b[0m             \u001b[0;32mif\u001b[0m \u001b[0mlen\u001b[0m\u001b[0;34m(\u001b[0m\u001b[0mdata\u001b[0m\u001b[0;34m)\u001b[0m \u001b[0;34m>\u001b[0m \u001b[0;36m0\u001b[0m\u001b[0;34m:\u001b[0m\u001b[0;34m\u001b[0m\u001b[0m\n\u001b[1;32m    302\u001b[0m                 \u001b[0;32mif\u001b[0m \u001b[0mis_list_like\u001b[0m\u001b[0;34m(\u001b[0m\u001b[0mdata\u001b[0m\u001b[0;34m[\u001b[0m\u001b[0;36m0\u001b[0m\u001b[0;34m]\u001b[0m\u001b[0;34m)\u001b[0m \u001b[0;32mand\u001b[0m \u001b[0mgetattr\u001b[0m\u001b[0;34m(\u001b[0m\u001b[0mdata\u001b[0m\u001b[0;34m[\u001b[0m\u001b[0;36m0\u001b[0m\u001b[0;34m]\u001b[0m\u001b[0;34m,\u001b[0m \u001b[0;34m'ndim'\u001b[0m\u001b[0;34m,\u001b[0m \u001b[0;36m1\u001b[0m\u001b[0;34m)\u001b[0m \u001b[0;34m==\u001b[0m \u001b[0;36m1\u001b[0m\u001b[0;34m:\u001b[0m\u001b[0;34m\u001b[0m\u001b[0m\n",
      "\u001b[0;32m<ipython-input-18-aef20360687e>\u001b[0m in \u001b[0;36m<genexpr>\u001b[0;34m((x,))\u001b[0m\n\u001b[0;32m----> 1\u001b[0;31m \u001b[0mhouseinfo1_split\u001b[0m \u001b[0;34m=\u001b[0m \u001b[0mpd\u001b[0m\u001b[0;34m.\u001b[0m\u001b[0mDataFrame\u001b[0m\u001b[0;34m(\u001b[0m\u001b[0;34m(\u001b[0m\u001b[0mx\u001b[0m\u001b[0;34m.\u001b[0m\u001b[0msplit\u001b[0m\u001b[0;34m(\u001b[0m\u001b[0;34m'|'\u001b[0m\u001b[0;34m)\u001b[0m \u001b[0;32mfor\u001b[0m \u001b[0mx\u001b[0m \u001b[0;32min\u001b[0m \u001b[0mhouse\u001b[0m\u001b[0;34m.\u001b[0m\u001b[0mhouseinfo1\u001b[0m\u001b[0;34m)\u001b[0m\u001b[0;34m,\u001b[0m\u001b[0mindex\u001b[0m\u001b[0;34m=\u001b[0m\u001b[0mhouse\u001b[0m\u001b[0;34m.\u001b[0m\u001b[0mindex\u001b[0m\u001b[0;34m,\u001b[0m\u001b[0mcolumns\u001b[0m\u001b[0;34m=\u001b[0m\u001b[0;34m[\u001b[0m\u001b[0;34m'xiaoqu'\u001b[0m\u001b[0;34m,\u001b[0m\u001b[0;34m'huxing'\u001b[0m\u001b[0;34m,\u001b[0m\u001b[0;34m'mianji'\u001b[0m\u001b[0;34m]\u001b[0m\u001b[0;34m)\u001b[0m\u001b[0;34m\u001b[0m\u001b[0m\n\u001b[0m\u001b[1;32m      2\u001b[0m \u001b[0mhouseinfo1_split\u001b[0m\u001b[0;34m.\u001b[0m\u001b[0mhead\u001b[0m\u001b[0;34m(\u001b[0m\u001b[0;34m)\u001b[0m\u001b[0;34m\u001b[0m\u001b[0m\n",
      "\u001b[0;31mAttributeError\u001b[0m: 'NoneType' object has no attribute 'split'"
     ]
    }
   ],
   "source": [
    "houseinfo1_split = pd.DataFrame((x.split('|') for x in house.houseinfo1),index=house.index,columns=['xiaoqu','huxing','mianji'])\n",
    "houseinfo1_split.head()"
   ]
  },
  {
   "cell_type": "code",
   "execution_count": 3,
   "metadata": {
    "collapsed": false
   },
   "outputs": [
    {
     "name": "stdout",
     "output_type": "stream",
     "text": [
      "[u'317\\u4e07', u'200\\u4e07', u'220\\u4e07', u'1373\\u4e07', u'1610\\u4e07', u'730\\u4e07', u'310\\u4e07', u'280\\u4e07', u'188\\u4e07', u'170\\u4e07', u'90\\u4e07', u'950\\u4e07', u'332\\u4e07', u'357\\u4e07', u'318\\u4e07', u'430\\u4e07', u'310\\u4e07', u'150\\u4e07', u'150\\u4e07', u'170\\u4e07', u'395\\u4e07', u'460\\u4e07', u'180\\u4e07', u'2500\\u4e07', u'440\\u4e07']\n"
     ]
    }
   ],
   "source": [
    "print spider.hp"
   ]
  },
  {
   "cell_type": "code",
   "execution_count": 49,
   "metadata": {
    "collapsed": false,
    "scrolled": true
   },
   "outputs": [
    {
     "name": "stdout",
     "output_type": "stream",
     "text": [
      "[u'\\u592a\\u5b50\\u9053|1\\u5ba42\\u5385|36\\u5e73', u'\\u5bcc\\u9a70\\u5927\\u53a6|1\\u5ba40\\u5385|40\\u5e73', u'\\u592a\\u5b50\\u9053|1\\u5ba42\\u5385|25\\u5e73', u'\\u5b9d\\u751fMidtown|4\\u5ba42\\u5385|156\\u5e73', u'\\u5b9d\\u751fMidtown|4\\u5ba42\\u5385|183\\u5e73', u'\\u5b9d\\u751fMidtown|3\\u5ba42\\u5385|83\\u5e73', u'\\u76db\\u9f99\\u82b1\\u56ed\\u4e8c\\u671f\\uff08\\u4e07\\u8c61\\u5929\\u6210\\uff09|3\\u5ba42\\u5385|89\\u5e73', u'\\u4e2d\\u6d77\\u5eb7\\u57ce\\u82b1\\u56ed\\u4e00\\u671f|3\\u5ba42\\u5385|73\\u5e73', u'\\u76db\\u9f99\\u82b1\\u56ed\\u4e8c\\u671f\\uff08\\u4e07\\u8c61\\u5929\\u6210\\uff09|1\\u5ba41\\u5385|57.56\\u5e73', u'\\u4e2d\\u6d77\\u5eb7\\u57ce\\u82b1\\u56ed\\u4e00\\u671f|1\\u5ba41\\u5385|43.15\\u5e73', u'\\u8fdc\\u6d0b\\u65b0\\u5e72\\u7ebf\\u6676\\u94bb\\u5e7f\\u573a|1\\u5ba41\\u5385|32\\u5e73', u'\\u798f\\u7530\\u4e2d\\u6e2f\\u57ce|3\\u5ba42\\u5385|144.5\\u5e73', u'\\u534e\\u7b56\\u4e2d\\u5fc3\\u57ce\\u4e00\\u671f|3\\u5ba42\\u5385|81\\u5e73', u'\\u534e\\u7b56\\u4e2d\\u5fc3\\u57ce\\u4e00\\u671f|3\\u5ba42\\u5385|87\\u5e73', u'\\u534e\\u4e1a\\u73ab\\u7470\\u90e1|3\\u5ba42\\u5385|85\\u5e73', u'\\u4e3d\\u9633\\u5929\\u4e0b\\u540d\\u82d1|2\\u5ba42\\u5385|66\\u5e73', u'\\u5929\\u5065\\u82b1\\u56ed\\u4e00\\u671f|3\\u5ba42\\u5385|105\\u5e73', u'\\u4e2d\\u7cae\\u4e00\\u54c1\\u6f9c\\u5c71\\u82b1\\u56ed|2\\u5ba42\\u5385|68\\u5e73', u'\\u4e39\\u6893\\u9f99\\u5ead|2\\u5ba42\\u5385|63\\u5e73', u'\\u4e2d\\u6d77\\u5eb7\\u57ce\\u82b1\\u56ed\\u4e00\\u671f|1\\u5ba41\\u5385|48\\u5e73', u'\\u548c\\u9ec4\\u61ff\\u82b1\\u56ed(\\u5742\\u7530)|3\\u5ba42\\u5385|89.02\\u5e73', u'\\u82b1\\u534a\\u91cc\\u82b1\\u56ed|3\\u5ba42\\u5385|108\\u5e73', u'\\u8c6a\\u65b9\\u83c1\\u56ed|3\\u5ba42\\u5385|48\\u5e73', u'\\u661f\\u6cb3\\u4e39\\u5824\\u82b1\\u56ed|4\\u5ba42\\u5385|220\\u5e73', u'\\u9526\\u7ee3\\u4e1c\\u65b9|4\\u5ba42\\u5385|96.69\\u5e73']\n"
     ]
    }
   ],
   "source": [
    "print spider.hi1"
   ]
  },
  {
   "cell_type": "code",
   "execution_count": 53,
   "metadata": {
    "collapsed": false
   },
   "outputs": [
    {
     "name": "stdout",
     "output_type": "stream",
     "text": [
      "0      /带看30次\n",
      "1       /带看5次\n",
      "2      /带看32次\n",
      "3       /带看2次\n",
      "4           /\n",
      "5           /\n",
      "6      /带看77次\n",
      "7     /带看114次\n",
      "8      /带看31次\n",
      "9      /带看56次\n",
      "10     /带看14次\n",
      "11      /带看2次\n",
      "12     /带看26次\n",
      "13     /带看18次\n",
      "14     /带看47次\n",
      "15      /带看5次\n",
      "16     /带看13次\n",
      "17    /带看111次\n",
      "18    /带看333次\n",
      "19     /带看51次\n",
      "20      /带看3次\n",
      "21     /带看10次\n",
      "22    /带看773次\n",
      "23      /带看1次\n",
      "24     /带看14次\n",
      "25     /带看30次\n",
      "26      /带看5次\n",
      "27     /带看32次\n",
      "28      /带看2次\n",
      "29          /\n",
      "       ...   \n",
      "70      /带看3次\n",
      "71     /带看10次\n",
      "72    /带看773次\n",
      "73      /带看1次\n",
      "74     /带看14次\n",
      "75     /带看30次\n",
      "76      /带看5次\n",
      "77     /带看32次\n",
      "78      /带看2次\n",
      "79          /\n",
      "80          /\n",
      "81     /带看77次\n",
      "82    /带看114次\n",
      "83     /带看31次\n",
      "84     /带看56次\n",
      "85     /带看14次\n",
      "86      /带看2次\n",
      "87     /带看26次\n",
      "88     /带看18次\n",
      "89     /带看47次\n",
      "90      /带看5次\n",
      "91     /带看13次\n",
      "92    /带看111次\n",
      "93    /带看333次\n",
      "94     /带看51次\n",
      "95      /带看3次\n",
      "96     /带看10次\n",
      "97    /带看773次\n",
      "98      /带看1次\n",
      "99     /带看14次\n",
      "Name: followinfo, dtype: object\n"
     ]
    }
   ],
   "source": [
    "print house.followinfo"
   ]
  }
 ],
 "metadata": {
  "kernelspec": {
   "display_name": "Python 2",
   "language": "python",
   "name": "python2"
  },
  "language_info": {
   "codemirror_mode": {
    "name": "ipython",
    "version": 2
   },
   "file_extension": ".py",
   "mimetype": "text/x-python",
   "name": "python",
   "nbconvert_exporter": "python",
   "pygments_lexer": "ipython2",
   "version": "2.7.12"
  }
 },
 "nbformat": 4,
 "nbformat_minor": 2
}
