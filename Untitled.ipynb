{
 "cells": [
  {
   "cell_type": "code",
   "execution_count": 117,
   "metadata": {
    "collapsed": false,
    "scrolled": false
   },
   "outputs": [
    {
     "name": "stdout",
     "output_type": "stream",
     "text": [
      "17401\n",
      "697\n"
     ]
    },
    {
     "ename": "IndexError",
     "evalue": "list index out of range",
     "output_type": "error",
     "traceback": [
      "\u001b[0;31m---------------------------------------------------------------------------\u001b[0m",
      "\u001b[0;31mIndexError\u001b[0m                                Traceback (most recent call last)",
      "\u001b[0;32m/home/water/bishe/zhongyuan/zhongyuan.py\u001b[0m in \u001b[0;36m<module>\u001b[0;34m()\u001b[0m\n\u001b[1;32m    184\u001b[0m         \u001b[0;32mfor\u001b[0m \u001b[0mi\u001b[0m \u001b[0;32min\u001b[0m \u001b[0mrange\u001b[0m\u001b[0;34m(\u001b[0m\u001b[0;36m69\u001b[0m\u001b[0;34m,\u001b[0m\u001b[0;36m70\u001b[0m\u001b[0;34m)\u001b[0m\u001b[0;34m:\u001b[0m\u001b[0;34m\u001b[0m\u001b[0m\n\u001b[1;32m    185\u001b[0m                 \u001b[0mspider\u001b[0m \u001b[0;34m=\u001b[0m \u001b[0mZYDC\u001b[0m\u001b[0;34m(\u001b[0m\u001b[0murl\u001b[0m\u001b[0;34m,\u001b[0m\u001b[0mpage\u001b[0m\u001b[0;34m)\u001b[0m\u001b[0;34m\u001b[0m\u001b[0m\n\u001b[0;32m--> 186\u001b[0;31m                 \u001b[0mspider\u001b[0m\u001b[0;34m.\u001b[0m\u001b[0mmain\u001b[0m\u001b[0;34m(\u001b[0m\u001b[0mTotalPages\u001b[0m\u001b[0;34m[\u001b[0m\u001b[0mi\u001b[0m\u001b[0;34m]\u001b[0m\u001b[0;34m)\u001b[0m\u001b[0;34m\u001b[0m\u001b[0m\n\u001b[0m\u001b[1;32m    187\u001b[0m         \u001b[0;31m#spider = ZYDC(url,page)\u001b[0m\u001b[0;34m\u001b[0m\u001b[0;34m\u001b[0m\u001b[0m\n\u001b[1;32m    188\u001b[0m         \u001b[0;31m#spider.main(TotalPages[38])\u001b[0m\u001b[0;34m\u001b[0m\u001b[0;34m\u001b[0m\u001b[0m\n",
      "\u001b[0;32m/home/water/bishe/zhongyuan/zhongyuan.py\u001b[0m in \u001b[0;36mmain\u001b[0;34m(self, pageIndex)\u001b[0m\n\u001b[1;32m    131\u001b[0m                 \u001b[0mself\u001b[0m\u001b[0;34m.\u001b[0m\u001b[0mgetPrice\u001b[0m\u001b[0;34m(\u001b[0m\u001b[0;34m)\u001b[0m\u001b[0;34m\u001b[0m\u001b[0m\n\u001b[1;32m    132\u001b[0m                 \u001b[0mself\u001b[0m\u001b[0;34m.\u001b[0m\u001b[0mgetInfo\u001b[0m\u001b[0;34m(\u001b[0m\u001b[0;34m)\u001b[0m\u001b[0;34m\u001b[0m\u001b[0m\n\u001b[0;32m--> 133\u001b[0;31m                 \u001b[0mself\u001b[0m\u001b[0;34m.\u001b[0m\u001b[0mgetSpecificInfo\u001b[0m\u001b[0;34m(\u001b[0m\u001b[0;34m)\u001b[0m\u001b[0;34m\u001b[0m\u001b[0m\n\u001b[0m\u001b[1;32m    134\u001b[0m                 \u001b[0;32mprint\u001b[0m \u001b[0mlen\u001b[0m\u001b[0;34m(\u001b[0m\u001b[0mself\u001b[0m\u001b[0;34m.\u001b[0m\u001b[0mhu\u001b[0m\u001b[0;34m)\u001b[0m\u001b[0;34m\u001b[0m\u001b[0m\n\u001b[1;32m    135\u001b[0m                 \u001b[0;32mprint\u001b[0m \u001b[0mlen\u001b[0m\u001b[0;34m(\u001b[0m\u001b[0mself\u001b[0m\u001b[0;34m.\u001b[0m\u001b[0mhsi\u001b[0m\u001b[0;34m)\u001b[0m\u001b[0;34m\u001b[0m\u001b[0m\n",
      "\u001b[0;32m/home/water/bishe/zhongyuan/zhongyuan.py\u001b[0m in \u001b[0;36mgetSpecificInfo\u001b[0;34m(self)\u001b[0m\n\u001b[1;32m    107\u001b[0m                         \u001b[0;31m#for x in followInfo:\u001b[0m\u001b[0;34m\u001b[0m\u001b[0;34m\u001b[0m\u001b[0m\n\u001b[1;32m    108\u001b[0m                         \u001b[0;31m#       follow = x.li.get_text().replace('\\n','') + '/' + x.li.find_next_sibling().get_text().replace('\\n','')\u001b[0m\u001b[0;34m\u001b[0m\u001b[0;34m\u001b[0m\u001b[0m\n\u001b[0;32m--> 109\u001b[0;31m                         \u001b[0mfollow\u001b[0m \u001b[0;34m=\u001b[0m \u001b[0mfollowInfo\u001b[0m\u001b[0;34m[\u001b[0m\u001b[0;36m0\u001b[0m\u001b[0;34m]\u001b[0m\u001b[0;34m.\u001b[0m\u001b[0mli\u001b[0m\u001b[0;34m.\u001b[0m\u001b[0mfind_next_sibling\u001b[0m\u001b[0;34m(\u001b[0m\u001b[0;34m)\u001b[0m\u001b[0;34m.\u001b[0m\u001b[0mget_text\u001b[0m\u001b[0;34m(\u001b[0m\u001b[0;34m)\u001b[0m\u001b[0;34m.\u001b[0m\u001b[0mreplace\u001b[0m\u001b[0;34m(\u001b[0m\u001b[0;34m'\\n'\u001b[0m\u001b[0;34m,\u001b[0m\u001b[0;34m''\u001b[0m\u001b[0;34m)\u001b[0m\u001b[0;34m\u001b[0m\u001b[0m\n\u001b[0m\u001b[1;32m    110\u001b[0m                         \u001b[0mself\u001b[0m\u001b[0;34m.\u001b[0m\u001b[0mhsi\u001b[0m\u001b[0;34m.\u001b[0m\u001b[0mappend\u001b[0m\u001b[0;34m(\u001b[0m\u001b[0mfollow\u001b[0m\u001b[0;34m)\u001b[0m\u001b[0;34m\u001b[0m\u001b[0m\n\u001b[1;32m    111\u001b[0m                         \u001b[0;31m#print len(self.hsi)\u001b[0m\u001b[0;34m\u001b[0m\u001b[0;34m\u001b[0m\u001b[0m\n",
      "\u001b[0;31mIndexError\u001b[0m: list index out of range"
     ]
    }
   ],
   "source": [
    "run zhongyuan.py"
   ]
  },
  {
   "cell_type": "code",
   "execution_count": 18,
   "metadata": {
    "collapsed": false,
    "scrolled": true
   },
   "outputs": [
    {
     "data": {
      "text/html": [
       "<div>\n",
       "<table border=\"1\" class=\"dataframe\">\n",
       "  <thead>\n",
       "    <tr style=\"text-align: right;\">\n",
       "      <th></th>\n",
       "      <th>houseinfo2</th>\n",
       "      <th>houseprice</th>\n",
       "      <th>houseinfo1</th>\n",
       "      <th>followinfo</th>\n",
       "      <th>xiaoqu</th>\n",
       "      <th>huxing</th>\n",
       "      <th>mianji</th>\n",
       "      <th>chaoxiang</th>\n",
       "      <th>louceng</th>\n",
       "      <th>zhuangxiu</th>\n",
       "      <th>niandai</th>\n",
       "    </tr>\n",
       "  </thead>\n",
       "  <tbody>\n",
       "    <tr>\n",
       "      <th>0</th>\n",
       "      <td>南|中层|豪装|2009年</td>\n",
       "      <td>317万</td>\n",
       "      <td>太子道|1室2厅|36平</td>\n",
       "      <td>带看30次</td>\n",
       "      <td>太子道</td>\n",
       "      <td>1室2厅</td>\n",
       "      <td>36平</td>\n",
       "      <td>南</td>\n",
       "      <td>中层</td>\n",
       "      <td>豪装</td>\n",
       "      <td>2009年</td>\n",
       "    </tr>\n",
       "    <tr>\n",
       "      <th>1</th>\n",
       "      <td>南|低层|精装|2016年</td>\n",
       "      <td>200万</td>\n",
       "      <td>富驰大厦|1室0厅|40平</td>\n",
       "      <td>带看6次</td>\n",
       "      <td>富驰大厦</td>\n",
       "      <td>1室0厅</td>\n",
       "      <td>40平</td>\n",
       "      <td>南</td>\n",
       "      <td>低层</td>\n",
       "      <td>精装</td>\n",
       "      <td>2016年</td>\n",
       "    </tr>\n",
       "    <tr>\n",
       "      <th>2</th>\n",
       "      <td>南|低层|豪装|2009年</td>\n",
       "      <td>220万</td>\n",
       "      <td>太子道|1室2厅|25平</td>\n",
       "      <td>带看33次</td>\n",
       "      <td>太子道</td>\n",
       "      <td>1室2厅</td>\n",
       "      <td>25平</td>\n",
       "      <td>南</td>\n",
       "      <td>低层</td>\n",
       "      <td>豪装</td>\n",
       "      <td>2009年</td>\n",
       "    </tr>\n",
       "    <tr>\n",
       "      <th>3</th>\n",
       "      <td>东北|低层|毛坯|2012年</td>\n",
       "      <td>1373万</td>\n",
       "      <td>宝生Midtown|4室2厅|156平</td>\n",
       "      <td>带看2次</td>\n",
       "      <td>宝生Midtown</td>\n",
       "      <td>4室2厅</td>\n",
       "      <td>156平</td>\n",
       "      <td>东北</td>\n",
       "      <td>低层</td>\n",
       "      <td>毛坯</td>\n",
       "      <td>2012年</td>\n",
       "    </tr>\n",
       "    <tr>\n",
       "      <th>4</th>\n",
       "      <td>东北|低层|毛坯|2012年</td>\n",
       "      <td>1610万</td>\n",
       "      <td>宝生Midtown|4室2厅|183平</td>\n",
       "      <td></td>\n",
       "      <td>宝生Midtown</td>\n",
       "      <td>4室2厅</td>\n",
       "      <td>183平</td>\n",
       "      <td>东北</td>\n",
       "      <td>低层</td>\n",
       "      <td>毛坯</td>\n",
       "      <td>2012年</td>\n",
       "    </tr>\n",
       "  </tbody>\n",
       "</table>\n",
       "</div>"
      ],
      "text/plain": [
       "       houseinfo2 houseprice           houseinfo1 followinfo     xiaoqu  \\\n",
       "0   南|中层|豪装|2009年       317万         太子道|1室2厅|36平      带看30次        太子道   \n",
       "1   南|低层|精装|2016年       200万        富驰大厦|1室0厅|40平       带看6次       富驰大厦   \n",
       "2   南|低层|豪装|2009年       220万         太子道|1室2厅|25平      带看33次        太子道   \n",
       "3  东北|低层|毛坯|2012年      1373万  宝生Midtown|4室2厅|156平       带看2次  宝生Midtown   \n",
       "4  东北|低层|毛坯|2012年      1610万  宝生Midtown|4室2厅|183平             宝生Midtown   \n",
       "\n",
       "  huxing mianji chaoxiang louceng zhuangxiu niandai  \n",
       "0   1室2厅    36平         南      中层        豪装   2009年  \n",
       "1   1室0厅    40平         南      低层        精装   2016年  \n",
       "2   1室2厅    25平         南      低层        豪装   2009年  \n",
       "3   4室2厅   156平        东北      低层        毛坯   2012年  \n",
       "4   4室2厅   183平        东北      低层        毛坯   2012年  "
      ]
     },
     "execution_count": 18,
     "metadata": {},
     "output_type": "execute_result"
    }
   ],
   "source": [
    "house.head()"
   ]
  },
  {
   "cell_type": "code",
   "execution_count": 109,
   "metadata": {
    "collapsed": false
   },
   "outputs": [],
   "source": [
    "run zyPandas.py"
   ]
  },
  {
   "cell_type": "code",
   "execution_count": 110,
   "metadata": {
    "collapsed": false
   },
   "outputs": [
    {
     "data": {
      "text/html": [
       "<div>\n",
       "<table border=\"1\" class=\"dataframe\">\n",
       "  <thead>\n",
       "    <tr style=\"text-align: right;\">\n",
       "      <th></th>\n",
       "      <th>house_url</th>\n",
       "      <th>houseinfo_xhm</th>\n",
       "      <th>houseinfo_clzn</th>\n",
       "      <th>houseprice</th>\n",
       "      <th>followinfo</th>\n",
       "      <th>xiaoqu</th>\n",
       "      <th>huxing</th>\n",
       "      <th>mianji</th>\n",
       "      <th>chaoxiang</th>\n",
       "      <th>louceng</th>\n",
       "      <th>zhuangxiu</th>\n",
       "      <th>niandai</th>\n",
       "    </tr>\n",
       "  </thead>\n",
       "  <tbody>\n",
       "    <tr>\n",
       "      <th>15111</th>\n",
       "      <td>http://sz.centanet.com/ershoufang/szyt1275964...</td>\n",
       "      <td>花样年花港家园|1室1厅|42.74平</td>\n",
       "      <td>南|低层|豪装|2007年</td>\n",
       "      <td>140万</td>\n",
       "      <td></td>\n",
       "      <td>花样年花港家园</td>\n",
       "      <td>1室1厅</td>\n",
       "      <td>42.74平</td>\n",
       "      <td>南</td>\n",
       "      <td>低层</td>\n",
       "      <td>豪装</td>\n",
       "      <td>2007年</td>\n",
       "    </tr>\n",
       "    <tr>\n",
       "      <th>15112</th>\n",
       "      <td>http://sz.centanet.com/ershoufang/szyt1277025...</td>\n",
       "      <td>金港盛世华庭|2室1厅|66.76平</td>\n",
       "      <td>没有注明|中层|简装|2006年</td>\n",
       "      <td>315万</td>\n",
       "      <td></td>\n",
       "      <td>金港盛世华庭</td>\n",
       "      <td>2室1厅</td>\n",
       "      <td>66.76平</td>\n",
       "      <td>没有注明</td>\n",
       "      <td>中层</td>\n",
       "      <td>简装</td>\n",
       "      <td>2006年</td>\n",
       "    </tr>\n",
       "    <tr>\n",
       "      <th>15113</th>\n",
       "      <td>http://sz.centanet.com/ershoufang/szyt1277039...</td>\n",
       "      <td>八佰麓居|3室2厅|67平</td>\n",
       "      <td>西南|中层|简装|2016年</td>\n",
       "      <td>290万</td>\n",
       "      <td></td>\n",
       "      <td>八佰麓居</td>\n",
       "      <td>3室2厅</td>\n",
       "      <td>67平</td>\n",
       "      <td>西南</td>\n",
       "      <td>中层</td>\n",
       "      <td>简装</td>\n",
       "      <td>2016年</td>\n",
       "    </tr>\n",
       "    <tr>\n",
       "      <th>15114</th>\n",
       "      <td>http://sz.centanet.com/ershoufang/szyt1279444...</td>\n",
       "      <td>东部翠海轩|2室1厅|38平</td>\n",
       "      <td>东南|高层|精装|2007年</td>\n",
       "      <td>250万</td>\n",
       "      <td></td>\n",
       "      <td>东部翠海轩</td>\n",
       "      <td>2室1厅</td>\n",
       "      <td>38平</td>\n",
       "      <td>东南</td>\n",
       "      <td>高层</td>\n",
       "      <td>精装</td>\n",
       "      <td>2007年</td>\n",
       "    </tr>\n",
       "    <tr>\n",
       "      <th>15115</th>\n",
       "      <td>http://sz.centanet.com/ershoufang/szyt1280592...</td>\n",
       "      <td>中海半山溪谷花园|3室2厅|96平</td>\n",
       "      <td>西南|低层|精装|2008年</td>\n",
       "      <td>420万</td>\n",
       "      <td></td>\n",
       "      <td>中海半山溪谷花园</td>\n",
       "      <td>3室2厅</td>\n",
       "      <td>96平</td>\n",
       "      <td>西南</td>\n",
       "      <td>低层</td>\n",
       "      <td>精装</td>\n",
       "      <td>2008年</td>\n",
       "    </tr>\n",
       "  </tbody>\n",
       "</table>\n",
       "</div>"
      ],
      "text/plain": [
       "                                               house_url  \\\n",
       "15111   http://sz.centanet.com/ershoufang/szyt1275964...   \n",
       "15112   http://sz.centanet.com/ershoufang/szyt1277025...   \n",
       "15113   http://sz.centanet.com/ershoufang/szyt1277039...   \n",
       "15114   http://sz.centanet.com/ershoufang/szyt1279444...   \n",
       "15115   http://sz.centanet.com/ershoufang/szyt1280592...   \n",
       "\n",
       "              houseinfo_xhm    houseinfo_clzn houseprice followinfo  \\\n",
       "15111   花样年花港家园|1室1厅|42.74平     南|低层|豪装|2007年       140万              \n",
       "15112    金港盛世华庭|2室1厅|66.76平  没有注明|中层|简装|2006年       315万              \n",
       "15113         八佰麓居|3室2厅|67平    西南|中层|简装|2016年       290万              \n",
       "15114        东部翠海轩|2室1厅|38平    东南|高层|精装|2007年       250万              \n",
       "15115     中海半山溪谷花园|3室2厅|96平    西南|低层|精装|2008年       420万              \n",
       "\n",
       "          xiaoqu huxing  mianji chaoxiang louceng zhuangxiu niandai  \n",
       "15111    花样年花港家园   1室1厅  42.74平         南      低层        豪装   2007年  \n",
       "15112     金港盛世华庭   2室1厅  66.76平      没有注明      中层        简装   2006年  \n",
       "15113       八佰麓居   3室2厅     67平        西南      中层        简装   2016年  \n",
       "15114      东部翠海轩   2室1厅     38平        东南      高层        精装   2007年  \n",
       "15115   中海半山溪谷花园   3室2厅     96平        西南      低层        精装   2008年  "
      ]
     },
     "execution_count": 110,
     "metadata": {},
     "output_type": "execute_result"
    }
   ],
   "source": [
    "house.tail()"
   ]
  },
  {
   "cell_type": "code",
   "execution_count": 118,
   "metadata": {
    "collapsed": false
   },
   "outputs": [
    {
     "name": "stdout",
     "output_type": "stream",
     "text": [
      "0             \n",
      "1             \n",
      "2             \n",
      "3             \n",
      "4             \n",
      "5             \n",
      "6             \n",
      "7             \n",
      "8             \n",
      "9             \n",
      "10            \n",
      "11            \n",
      "12            \n",
      "13            \n",
      "14            \n",
      "15            \n",
      "16            \n",
      "17            \n",
      "18            \n",
      "19            \n",
      "20            \n",
      "21        带看1次\n",
      "22            \n",
      "23            \n",
      "24            \n",
      "25            \n",
      "26            \n",
      "27            \n",
      "28            \n",
      "29        带看6次\n",
      "         ...  \n",
      "15086         \n",
      "15087         \n",
      "15088     带看1次\n",
      "15089         \n",
      "15090         \n",
      "15091         \n",
      "15092     带看2次\n",
      "15093         \n",
      "15094         \n",
      "15095     带看3次\n",
      "15096         \n",
      "15097         \n",
      "15098         \n",
      "15099         \n",
      "15100         \n",
      "15101         \n",
      "15102         \n",
      "15103         \n",
      "15104         \n",
      "15105         \n",
      "15106         \n",
      "15107         \n",
      "15108     带看1次\n",
      "15109         \n",
      "15110         \n",
      "15111         \n",
      "15112         \n",
      "15113         \n",
      "15114         \n",
      "15115         \n",
      "Name: followinfo, dtype: object\n"
     ]
    }
   ],
   "source": [
    "print house.followinfo"
   ]
  },
  {
   "cell_type": "code",
   "execution_count": 31,
   "metadata": {
    "collapsed": false,
    "scrolled": true
   },
   "outputs": [
    {
     "name": "stdout",
     "output_type": "stream",
     "text": [
      "http://sz.centanet.com/ershoufang/szns12090665.html\n"
     ]
    }
   ],
   "source": [
    "print spider.hu[207]"
   ]
  },
  {
   "cell_type": "code",
   "execution_count": 30,
   "metadata": {
    "collapsed": false
   },
   "outputs": [
    {
     "data": {
      "text/plain": [
       "zhuangxiu\n",
       "毛坯     7\n",
       "简装     3\n",
       "精装    15\n",
       "豪装    25\n",
       "Name: zhuangxiu, dtype: int64"
      ]
     },
     "execution_count": 30,
     "metadata": {},
     "output_type": "execute_result"
    }
   ],
   "source": [
    "zhuangxiu"
   ]
  }
 ],
 "metadata": {
  "kernelspec": {
   "display_name": "Python 2",
   "language": "python",
   "name": "python2"
  },
  "language_info": {
   "codemirror_mode": {
    "name": "ipython",
    "version": 2
   },
   "file_extension": ".py",
   "mimetype": "text/x-python",
   "name": "python",
   "nbconvert_exporter": "python",
   "pygments_lexer": "ipython2",
   "version": "2.7.12"
  }
 },
 "nbformat": 4,
 "nbformat_minor": 2
}
