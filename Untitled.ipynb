{
 "cells": [
  {
   "cell_type": "code",
   "execution_count": 6,
   "metadata": {
    "collapsed": false,
    "scrolled": true
   },
   "outputs": [
    {
     "data": {
      "text/html": [
       "<div>\n",
       "<table border=\"1\" class=\"dataframe\">\n",
       "  <thead>\n",
       "    <tr style=\"text-align: right;\">\n",
       "      <th></th>\n",
       "      <th>house_url</th>\n",
       "      <th>houseinfo_xhm</th>\n",
       "      <th>houseinfo_clzn</th>\n",
       "      <th>houseprice</th>\n",
       "      <th>followinfo</th>\n",
       "      <th>xiaoqu</th>\n",
       "      <th>huxing</th>\n",
       "      <th>mianji</th>\n",
       "      <th>chaoxiang</th>\n",
       "      <th>louceng</th>\n",
       "      <th>zhuangxiu</th>\n",
       "      <th>niandai</th>\n",
       "      <th>houseprice_num</th>\n",
       "      <th>follow_num</th>\n",
       "      <th>follow_group</th>\n",
       "      <th>mianji_num</th>\n",
       "      <th>mianji_group</th>\n",
       "      <th>label</th>\n",
       "    </tr>\n",
       "  </thead>\n",
       "  <tbody>\n",
       "    <tr>\n",
       "      <th>0</th>\n",
       "      <td>http://sz.centanet.com/ershoufang/szba1115740...</td>\n",
       "      <td>御景台|4室2厅|150.89平</td>\n",
       "      <td>东南|低层|精装|2001年</td>\n",
       "      <td>880万</td>\n",
       "      <td></td>\n",
       "      <td>御景台</td>\n",
       "      <td>4室2厅</td>\n",
       "      <td>150.89平</td>\n",
       "      <td>东南</td>\n",
       "      <td>低层</td>\n",
       "      <td>精装</td>\n",
       "      <td>2001年</td>\n",
       "      <td>880.0</td>\n",
       "      <td>0.0</td>\n",
       "      <td>0</td>\n",
       "      <td>150.89</td>\n",
       "      <td>150-200</td>\n",
       "      <td>0</td>\n",
       "    </tr>\n",
       "    <tr>\n",
       "      <th>1</th>\n",
       "      <td>http://sz.centanet.com/ershoufang/szba1115740...</td>\n",
       "      <td>中洲华府二期|5室3厅|253.58平</td>\n",
       "      <td>没有注明|高层|豪装|2014年</td>\n",
       "      <td>2000万</td>\n",
       "      <td></td>\n",
       "      <td>中洲华府二期</td>\n",
       "      <td>5室3厅</td>\n",
       "      <td>253.58平</td>\n",
       "      <td>没有注明</td>\n",
       "      <td>高层</td>\n",
       "      <td>豪装</td>\n",
       "      <td>2014年</td>\n",
       "      <td>2000.0</td>\n",
       "      <td>0.0</td>\n",
       "      <td>0</td>\n",
       "      <td>253.58</td>\n",
       "      <td>250-300</td>\n",
       "      <td>2</td>\n",
       "    </tr>\n",
       "    <tr>\n",
       "      <th>2</th>\n",
       "      <td>http://sz.centanet.com/ershoufang/szba1115740...</td>\n",
       "      <td>中洲华府二期|4室2厅|196平</td>\n",
       "      <td>南|中层|豪装|2014年</td>\n",
       "      <td>1300万</td>\n",
       "      <td></td>\n",
       "      <td>中洲华府二期</td>\n",
       "      <td>4室2厅</td>\n",
       "      <td>196平</td>\n",
       "      <td>南</td>\n",
       "      <td>中层</td>\n",
       "      <td>豪装</td>\n",
       "      <td>2014年</td>\n",
       "      <td>1300.0</td>\n",
       "      <td>0.0</td>\n",
       "      <td>0</td>\n",
       "      <td>196.00</td>\n",
       "      <td>150-200</td>\n",
       "      <td>2</td>\n",
       "    </tr>\n",
       "    <tr>\n",
       "      <th>3</th>\n",
       "      <td>http://sz.centanet.com/ershoufang/szba1115741...</td>\n",
       "      <td>中洲华府二期|4室2厅|167.2平</td>\n",
       "      <td>南|高层|毛坯|2014年</td>\n",
       "      <td>980万</td>\n",
       "      <td></td>\n",
       "      <td>中洲华府二期</td>\n",
       "      <td>4室2厅</td>\n",
       "      <td>167.2平</td>\n",
       "      <td>南</td>\n",
       "      <td>高层</td>\n",
       "      <td>毛坯</td>\n",
       "      <td>2014年</td>\n",
       "      <td>980.0</td>\n",
       "      <td>0.0</td>\n",
       "      <td>0</td>\n",
       "      <td>167.20</td>\n",
       "      <td>150-200</td>\n",
       "      <td>2</td>\n",
       "    </tr>\n",
       "    <tr>\n",
       "      <th>4</th>\n",
       "      <td>http://sz.centanet.com/ershoufang/szba1115779...</td>\n",
       "      <td>广信花园|2室2厅|76平</td>\n",
       "      <td>南|中层|豪装|2016年</td>\n",
       "      <td>320万</td>\n",
       "      <td></td>\n",
       "      <td>广信花园</td>\n",
       "      <td>2室2厅</td>\n",
       "      <td>76平</td>\n",
       "      <td>南</td>\n",
       "      <td>中层</td>\n",
       "      <td>豪装</td>\n",
       "      <td>2016年</td>\n",
       "      <td>320.0</td>\n",
       "      <td>0.0</td>\n",
       "      <td>0</td>\n",
       "      <td>76.00</td>\n",
       "      <td>50-100</td>\n",
       "      <td>0</td>\n",
       "    </tr>\n",
       "  </tbody>\n",
       "</table>\n",
       "</div>"
      ],
      "text/plain": [
       "                                           house_url         houseinfo_xhm  \\\n",
       "0   http://sz.centanet.com/ershoufang/szba1115740...      御景台|4室2厅|150.89平   \n",
       "1   http://sz.centanet.com/ershoufang/szba1115740...   中洲华府二期|5室3厅|253.58平   \n",
       "2   http://sz.centanet.com/ershoufang/szba1115740...      中洲华府二期|4室2厅|196平   \n",
       "3   http://sz.centanet.com/ershoufang/szba1115741...    中洲华府二期|4室2厅|167.2平   \n",
       "4   http://sz.centanet.com/ershoufang/szba1115779...         广信花园|2室2厅|76平   \n",
       "\n",
       "     houseinfo_clzn houseprice followinfo   xiaoqu huxing   mianji chaoxiang  \\\n",
       "0    东南|低层|精装|2001年       880万                 御景台   4室2厅  150.89平        东南   \n",
       "1  没有注明|高层|豪装|2014年      2000万              中洲华府二期   5室3厅  253.58平      没有注明   \n",
       "2     南|中层|豪装|2014年      1300万              中洲华府二期   4室2厅     196平         南   \n",
       "3     南|高层|毛坯|2014年       980万              中洲华府二期   4室2厅   167.2平         南   \n",
       "4     南|中层|豪装|2016年       320万                广信花园   2室2厅      76平         南   \n",
       "\n",
       "  louceng zhuangxiu niandai  houseprice_num  follow_num follow_group  \\\n",
       "0      低层        精装   2001年           880.0         0.0            0   \n",
       "1      高层        豪装   2014年          2000.0         0.0            0   \n",
       "2      中层        豪装   2014年          1300.0         0.0            0   \n",
       "3      高层        毛坯   2014年           980.0         0.0            0   \n",
       "4      中层        豪装   2016年           320.0         0.0            0   \n",
       "\n",
       "   mianji_num mianji_group  label  \n",
       "0      150.89      150-200      0  \n",
       "1      253.58      250-300      2  \n",
       "2      196.00      150-200      2  \n",
       "3      167.20      150-200      2  \n",
       "4       76.00       50-100      0  "
      ]
     },
     "execution_count": 6,
     "metadata": {},
     "output_type": "execute_result"
    }
   ],
   "source": [
    "house.head()"
   ]
  },
  {
   "cell_type": "code",
   "execution_count": 1,
   "metadata": {
    "collapsed": false,
    "scrolled": false
   },
   "outputs": [
    {
     "data": {
      "image/png": "[encoded data removed]",
      "text/plain": [
       "<matplotlib.figure.Figure at 0x7fef5a4f12d0>"
      ]
     },
     "metadata": {},
     "output_type": "display_data"
    }
   ],
   "source": [
    "run zyPandas.py"
   ]
  },
  {
   "cell_type": "code",
   "execution_count": 5,
   "metadata": {
    "collapsed": false
   },
   "outputs": [
    {
     "data": {
      "text/plain": [
       "array([[  4.21864408e+02,   8.40737406e+01,   1.67144740e-01],\n",
       "       [  4.06028870e+03,   3.27054561e+02,   5.02092050e-02],\n",
       "       [  1.44202781e+03,   1.74300708e+02,   1.02123357e-01]])"
      ]
     },
     "execution_count": 5,
     "metadata": {},
     "output_type": "execute_result"
    }
   ],
   "source": [
    "clf.cluster_centers_"
   ]
  },
  {
   "cell_type": "code",
   "execution_count": 11,
   "metadata": {
    "collapsed": false
   },
   "outputs": [
    {
     "data": {
      "text/plain": [
       "12899"
      ]
     },
     "execution_count": 11,
     "metadata": {},
     "output_type": "execute_result"
    }
   ],
   "source": [
    "len(house0)"
   ]
  },
  {
   "cell_type": "code",
   "execution_count": 12,
   "metadata": {
    "collapsed": false
   },
   "outputs": [
    {
     "data": {
      "text/plain": [
       "239"
      ]
     },
     "execution_count": 12,
     "metadata": {},
     "output_type": "execute_result"
    }
   ],
   "source": [
    "len(house1)"
   ]
  },
  {
   "cell_type": "code",
   "execution_count": 13,
   "metadata": {
    "collapsed": false
   },
   "outputs": [
    {
     "data": {
      "text/plain": [
       "1978"
      ]
     },
     "execution_count": 13,
     "metadata": {},
     "output_type": "execute_result"
    }
   ],
   "source": [
    "len(house2)"
   ]
  }
 ],
 "metadata": {
  "kernelspec": {
   "display_name": "Python 2",
   "language": "python",
   "name": "python2"
  },
  "language_info": {
   "codemirror_mode": {
    "name": "ipython",
    "version": 2
   },
   "file_extension": ".py",
   "mimetype": "text/x-python",
   "name": "python",
   "nbconvert_exporter": "python",
   "pygments_lexer": "ipython2",
   "version": "2.7.12"
  }
 },
 "nbformat": 4,
 "nbformat_minor": 2
}
