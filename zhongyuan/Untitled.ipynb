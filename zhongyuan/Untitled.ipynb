{
 "cells": [
  {
   "cell_type": "code",
   "execution_count": 17,
   "metadata": {
    "collapsed": false,
    "scrolled": true
   },
   "outputs": [
    {
     "name": "stdout",
     "output_type": "stream",
     "text": [
      "[2017-04-04 15:13:28]\n",
      "17799\n",
      "[2017-04-04 15:13:28]\n",
      "0.36900806427s\n"
     ]
    }
   ],
   "source": [
    "run zyData.py"
   ]
  },
  {
   "cell_type": "code",
   "execution_count": 18,
   "metadata": {
    "collapsed": false
   },
   "outputs": [
    {
     "name": "stdout",
     "output_type": "stream",
     "text": [
      "[2017-04-04 15:14:03]\n",
      "[2017-04-04 15:14:39]\n",
      "35.988505125s\n"
     ]
    }
   ],
   "source": [
    "run zyData.py"
   ]
  },
  {
   "cell_type": "code",
   "execution_count": 12,
   "metadata": {
    "collapsed": false
   },
   "outputs": [
    {
     "name": "stdout",
     "output_type": "stream",
     "text": [
      "[2017-04-04 17:29:26]\n",
      "[2017-04-04 17:30:41]\n",
      "74.4102270603s\n"
     ]
    }
   ],
   "source": [
    "run zyData.py"
   ]
  },
  {
   "cell_type": "code",
   "execution_count": 2,
   "metadata": {
    "collapsed": false
   },
   "outputs": [
    {
     "name": "stdout",
     "output_type": "stream",
     "text": [
      "[2017-04-04 19:31:33]\n",
      "[2017-04-04 19:31:58]\n",
      "24.8484740257s\n"
     ]
    }
   ],
   "source": [
    "run zyData.py"
   ]
  },
  {
   "cell_type": "code",
   "execution_count": 21,
   "metadata": {
    "collapsed": false
   },
   "outputs": [],
   "source": [
    "run zyPandas.py"
   ]
  },
  {
   "cell_type": "code",
   "execution_count": 22,
   "metadata": {
    "collapsed": false
   },
   "outputs": [
    {
     "data": {
      "text/html": [
       "<div>\n",
       "<table border=\"1\" class=\"dataframe\">\n",
       "  <thead>\n",
       "    <tr style=\"text-align: right;\">\n",
       "      <th></th>\n",
       "      <th>house_url</th>\n",
       "      <th>follow</th>\n",
       "      <th>price_area</th>\n",
       "      <th>houseinfo</th>\n",
       "      <th>price</th>\n",
       "      <th>huxing</th>\n",
       "      <th>mianji</th>\n",
       "      <th>chaoxiang</th>\n",
       "      <th>niandai</th>\n",
       "      <th>louceng</th>\n",
       "      <th>zhuangxiu</th>\n",
       "      <th>xiaoqu</th>\n",
       "      <th>address</th>\n",
       "      <th>houseprice_num</th>\n",
       "      <th>follow_num</th>\n",
       "      <th>follow_group</th>\n",
       "      <th>mianji_num</th>\n",
       "      <th>mianji_group</th>\n",
       "    </tr>\n",
       "  </thead>\n",
       "  <tbody>\n",
       "    <tr>\n",
       "      <th>0</th>\n",
       "      <td>http://sz.centanet.com/ershoufang/szba1116654...</td>\n",
       "      <td></td>\n",
       "      <td>1000万|6室3厅|236平</td>\n",
       "      <td>没有注明|1998年|高层(共11层)|豪装||</td>\n",
       "      <td>1000万</td>\n",
       "      <td>6室3厅</td>\n",
       "      <td>236平</td>\n",
       "      <td>没有注明</td>\n",
       "      <td>1998年</td>\n",
       "      <td>高层(共11层)</td>\n",
       "      <td>豪装</td>\n",
       "      <td></td>\n",
       "      <td></td>\n",
       "      <td>1000.0</td>\n",
       "      <td>0.0</td>\n",
       "      <td>0</td>\n",
       "      <td>236.00</td>\n",
       "      <td>200-250</td>\n",
       "    </tr>\n",
       "    <tr>\n",
       "      <th>1</th>\n",
       "      <td>http://sz.centanet.com/ershoufang/szba1116691...</td>\n",
       "      <td></td>\n",
       "      <td>490万|2室2厅|75.35平</td>\n",
       "      <td>南|2006年|低层(共20层)|豪装||</td>\n",
       "      <td>490万</td>\n",
       "      <td>2室2厅</td>\n",
       "      <td>75.35平</td>\n",
       "      <td>南</td>\n",
       "      <td>2006年</td>\n",
       "      <td>低层(共20层)</td>\n",
       "      <td>豪装</td>\n",
       "      <td></td>\n",
       "      <td></td>\n",
       "      <td>490.0</td>\n",
       "      <td>0.0</td>\n",
       "      <td>0</td>\n",
       "      <td>75.35</td>\n",
       "      <td>50-100</td>\n",
       "    </tr>\n",
       "    <tr>\n",
       "      <th>2</th>\n",
       "      <td>http://sz.centanet.com/ershoufang/szba1116715...</td>\n",
       "      <td></td>\n",
       "      <td>370万|2室2厅|71.5平</td>\n",
       "      <td>没有注明|2014年|低层(共30层)|豪装||</td>\n",
       "      <td>370万</td>\n",
       "      <td>2室2厅</td>\n",
       "      <td>71.5平</td>\n",
       "      <td>没有注明</td>\n",
       "      <td>2014年</td>\n",
       "      <td>低层(共30层)</td>\n",
       "      <td>豪装</td>\n",
       "      <td></td>\n",
       "      <td></td>\n",
       "      <td>370.0</td>\n",
       "      <td>0.0</td>\n",
       "      <td>0</td>\n",
       "      <td>71.50</td>\n",
       "      <td>50-100</td>\n",
       "    </tr>\n",
       "    <tr>\n",
       "      <th>3</th>\n",
       "      <td>http://sz.centanet.com/ershoufang/szba1116778...</td>\n",
       "      <td></td>\n",
       "      <td>500万|3室2厅|88平</td>\n",
       "      <td>南|2008年|低层(共22层)|精装||</td>\n",
       "      <td>500万</td>\n",
       "      <td>3室2厅</td>\n",
       "      <td>88平</td>\n",
       "      <td>南</td>\n",
       "      <td>2008年</td>\n",
       "      <td>低层(共22层)</td>\n",
       "      <td>精装</td>\n",
       "      <td></td>\n",
       "      <td></td>\n",
       "      <td>500.0</td>\n",
       "      <td>0.0</td>\n",
       "      <td>0</td>\n",
       "      <td>88.00</td>\n",
       "      <td>50-100</td>\n",
       "    </tr>\n",
       "    <tr>\n",
       "      <th>4</th>\n",
       "      <td>http://sz.centanet.com/ershoufang/szba1116815...</td>\n",
       "      <td></td>\n",
       "      <td>480万|3室2厅|108.76平</td>\n",
       "      <td>南|1998年|高层(共13层)|精装|富源花园|</td>\n",
       "      <td>480万</td>\n",
       "      <td>3室2厅</td>\n",
       "      <td>108.76平</td>\n",
       "      <td>南</td>\n",
       "      <td>1998年</td>\n",
       "      <td>高层(共13层)</td>\n",
       "      <td>精装</td>\n",
       "      <td>富源花园</td>\n",
       "      <td></td>\n",
       "      <td>480.0</td>\n",
       "      <td>0.0</td>\n",
       "      <td>0</td>\n",
       "      <td>108.76</td>\n",
       "      <td>100-150</td>\n",
       "    </tr>\n",
       "  </tbody>\n",
       "</table>\n",
       "</div>"
      ],
      "text/plain": [
       "                                           house_url follow  \\\n",
       "0   http://sz.centanet.com/ershoufang/szba1116654...          \n",
       "1   http://sz.centanet.com/ershoufang/szba1116691...          \n",
       "2   http://sz.centanet.com/ershoufang/szba1116715...          \n",
       "3   http://sz.centanet.com/ershoufang/szba1116778...          \n",
       "4   http://sz.centanet.com/ershoufang/szba1116815...          \n",
       "\n",
       "           price_area                   houseinfo   price huxing   mianji  \\\n",
       "0     1000万|6室3厅|236平    没有注明|1998年|高层(共11层)|豪装||   1000万   6室3厅     236平   \n",
       "1    490万|2室2厅|75.35平       南|2006年|低层(共20层)|豪装||    490万   2室2厅   75.35平   \n",
       "2     370万|2室2厅|71.5平    没有注明|2014年|低层(共30层)|豪装||    370万   2室2厅    71.5平   \n",
       "3       500万|3室2厅|88平       南|2008年|低层(共22层)|精装||    500万   3室2厅      88平   \n",
       "4   480万|3室2厅|108.76平   南|1998年|高层(共13层)|精装|富源花园|    480万   3室2厅  108.76平   \n",
       "\n",
       "  chaoxiang niandai   louceng zhuangxiu xiaoqu address  houseprice_num  \\\n",
       "0      没有注明   1998年  高层(共11层)        豪装                         1000.0   \n",
       "1         南   2006年  低层(共20层)        豪装                          490.0   \n",
       "2      没有注明   2014年  低层(共30层)        豪装                          370.0   \n",
       "3         南   2008年  低层(共22层)        精装                          500.0   \n",
       "4         南   1998年  高层(共13层)        精装   富源花园                   480.0   \n",
       "\n",
       "   follow_num follow_group  mianji_num mianji_group  \n",
       "0         0.0            0      236.00      200-250  \n",
       "1         0.0            0       75.35       50-100  \n",
       "2         0.0            0       71.50       50-100  \n",
       "3         0.0            0       88.00       50-100  \n",
       "4         0.0            0      108.76      100-150  "
      ]
     },
     "execution_count": 22,
     "metadata": {},
     "output_type": "execute_result"
    }
   ],
   "source": [
    "house.head()"
   ]
  },
  {
   "cell_type": "code",
   "execution_count": null,
   "metadata": {
    "collapsed": false
   },
   "outputs": [],
   "source": [
    "run zyCluster"
   ]
  },
  {
   "cell_type": "code",
   "execution_count": 16,
   "metadata": {
    "collapsed": false
   },
   "outputs": [
    {
     "data": {
      "text/html": [
       "<div>\n",
       "<table border=\"1\" class=\"dataframe\">\n",
       "  <thead>\n",
       "    <tr style=\"text-align: right;\">\n",
       "      <th></th>\n",
       "      <th>house_url</th>\n",
       "      <th>follow</th>\n",
       "      <th>price_area</th>\n",
       "      <th>houseinfo</th>\n",
       "    </tr>\n",
       "  </thead>\n",
       "  <tbody>\n",
       "    <tr>\n",
       "      <th>0</th>\n",
       "      <td>http://sz.centanet.com/ershoufang/szba1144192...</td>\n",
       "      <td></td>\n",
       "      <td>700万|5室2厅|124平</td>\n",
       "      <td>南|2004年|中层(共24层)|豪装|宝豪华庭|</td>\n",
       "    </tr>\n",
       "    <tr>\n",
       "      <th>1</th>\n",
       "      <td>http://sz.centanet.com/ershoufang/szba1187228...</td>\n",
       "      <td></td>\n",
       "      <td>495万|2室2厅|75平</td>\n",
       "      <td>西南|2004年|中层(共18层)|精装|</td>\n",
       "    </tr>\n",
       "    <tr>\n",
       "      <th>2</th>\n",
       "      <td>http://sz.centanet.com/ershoufang/szba1216801...</td>\n",
       "      <td>带看3次</td>\n",
       "      <td>435万|2室2厅|74.75平</td>\n",
       "      <td>南|2012年|低层(共32层)|精装|魅力时代花园|</td>\n",
       "    </tr>\n",
       "    <tr>\n",
       "      <th>3</th>\n",
       "      <td>http://sz.centanet.com/ershoufang/szba1231387...</td>\n",
       "      <td></td>\n",
       "      <td>300万|2室2厅|83.6平</td>\n",
       "      <td>南|2001年|低层(共8层)|精装|桃源居|</td>\n",
       "    </tr>\n",
       "    <tr>\n",
       "      <th>4</th>\n",
       "      <td>http://sz.centanet.com/ershoufang/szba1249547...</td>\n",
       "      <td></td>\n",
       "      <td>300万|2室2厅|69.33平</td>\n",
       "      <td>南|2007年|中层(共18层)|简装|桃源盛景园(16区)|</td>\n",
       "    </tr>\n",
       "  </tbody>\n",
       "</table>\n",
       "</div>"
      ],
      "text/plain": [
       "                                           house_url follow  \\\n",
       "0   http://sz.centanet.com/ershoufang/szba1144192...          \n",
       "1   http://sz.centanet.com/ershoufang/szba1187228...          \n",
       "2   http://sz.centanet.com/ershoufang/szba1216801...   带看3次   \n",
       "3   http://sz.centanet.com/ershoufang/szba1231387...          \n",
       "4   http://sz.centanet.com/ershoufang/szba1249547...          \n",
       "\n",
       "          price_area                         houseinfo  \n",
       "0     700万|5室2厅|124平         南|2004年|中层(共24层)|豪装|宝豪华庭|  \n",
       "1      495万|2室2厅|75平             西南|2004年|中层(共18层)|精装|  \n",
       "2   435万|2室2厅|74.75平       南|2012年|低层(共32层)|精装|魅力时代花园|  \n",
       "3    300万|2室2厅|83.6平           南|2001年|低层(共8层)|精装|桃源居|  \n",
       "4   300万|2室2厅|69.33平   南|2007年|中层(共18层)|简装|桃源盛景园(16区)|  "
      ]
     },
     "execution_count": 16,
     "metadata": {},
     "output_type": "execute_result"
    }
   ],
   "source": [
    "housedb.head()"
   ]
  }
 ],
 "metadata": {
  "kernelspec": {
   "display_name": "Python 2",
   "language": "python",
   "name": "python2"
  },
  "language_info": {
   "codemirror_mode": {
    "name": "ipython",
    "version": 2
   },
   "file_extension": ".py",
   "mimetype": "text/x-python",
   "name": "python",
   "nbconvert_exporter": "python",
   "pygments_lexer": "ipython2",
   "version": "2.7.12"
  }
 },
 "nbformat": 4,
 "nbformat_minor": 2
}
